{
 "cells": [
  {
   "cell_type": "markdown",
   "metadata": {},
   "source": [
    "# Example of use with a series of NetCDF files"
   ]
  },
  {
   "cell_type": "code",
   "execution_count": 1,
   "metadata": {},
   "outputs": [],
   "source": [
    "from typing import Dict, List, Tuple\n",
    "import concurrent.futures as cf\n",
    "import collections\n",
    "import traceback\n",
    "import pickle\n",
    "import os\n",
    "import sys\n",
    "import netCDF4\n",
    "import numcodecs\n",
    "import numpy as np\n",
    "import time\n",
    "import shutil\n",
    "import dask.distributed"
   ]
  },
  {
   "cell_type": "code",
   "execution_count": null,
   "metadata": {},
   "outputs": [],
   "source": [
    "import geohash.index\n",
    "import geohash.storage\n",
    "import geohash.core\n",
    "import geohash.lock"
   ]
  },
  {
   "cell_type": "markdown",
   "metadata": {},
   "source": [
    "Creation of a local dask cluster, which will be used to process the series of files faster."
   ]
  },
  {
   "cell_type": "code",
   "execution_count": null,
   "metadata": {},
   "outputs": [],
   "source": [
    "cluster = dask.distributed.LocalCluster(processes=True)\n",
    "client = dask.distributed.Client(cluster)\n",
    "client"
   ]
  },
  {
   "cell_type": "code",
   "execution_count": 5,
   "metadata": {},
   "outputs": [],
   "source": [
    "def get_files(dirname: str) -> List[str]:\n",
    "    \"\"\"Returns the list of file to be processed\"\"\"\n",
    "    result = []\n",
    "    for root, dirs, files in os.walk(dirname):\n",
    "        result += [os.path.join(root, item) for item in files if item.endswith(\".nc\")]\n",
    "    return result"
   ]
  },
  {
   "cell_type": "code",
   "execution_count": 6,
   "metadata": {},
   "outputs": [],
   "source": [
    "def read_positions_satellite(path: str) -> np.ndarray:\n",
    "    \"\"\"Read the positions of the satellite from a netCDF dataset\"\"\"\n",
    "    dtype = np.dtype([(\"lng\", \"f8\"), (\"lat\", \"f8\")])\n",
    "    with netCDF4.Dataset(path) as ds:\n",
    "        lng = ds.variables['longitude'][:]\n",
    "        lat = ds.variables['latitude'][:]\n",
    "        points = np.empty((len(ds.dimensions['time']), ), dtype=dtype)\n",
    "        points[\"lng\"][:] = ds.variables['longitude'][:]\n",
    "        points[\"lat\"][:] = ds.variables['latitude'][:]\n",
    "        \n",
    "        return points"
   ]
  },
  {
   "cell_type": "code",
   "execution_count": 7,
   "metadata": {},
   "outputs": [],
   "source": [
    "def get_geohash_from_file(paths: List[str], precision: int\n",
    "    ) -> Dict[bytes, Tuple[str, Tuple[int, int]]]:\n",
    "    \"\"\"Creation of an associative dictionary between GeoHash codes and the\n",
    "    file name start and last indexes of the data selected for that code.\"\"\"\n",
    "    hashs = collections.defaultdict(list, {})\n",
    "    for path in paths:\n",
    "        points = read_positions_satellite(path)\n",
    "        # Calculate geohash codes for each position read\n",
    "        idents = geohash.string.encode(points, precision)\n",
    "        # Calculate indices when the geohash codes are different\n",
    "        indexes = np.where(idents[:-1] != idents[1:])[0] + 1\n",
    "        # Create a tuple that contains the first/last index for each box\n",
    "        data = zip(np.insert(indexes, 0, 0), indexes)\n",
    "        # Finally create a map between geohash code and first/last index\n",
    "        for code, coordinates in zip(idents[np.insert(indexes, 0, 0)][0:-1], data):\n",
    "            hashs[code].append((path, coordinates))\n",
    "    return hashs"
   ]
  },
  {
   "cell_type": "code",
   "execution_count": 8,
   "metadata": {},
   "outputs": [],
   "source": [
    "files = get_files(\"/home/fbriol/Data/dt-along-track/tp\")"
   ]
  },
  {
   "cell_type": "markdown",
   "metadata": {},
   "source": [
    "The database is destroyed if it exists."
   ]
  },
  {
   "cell_type": "code",
   "execution_count": 9,
   "metadata": {},
   "outputs": [],
   "source": [
    "UNQLITE = \"/tmp/test.unqlite\"\n",
    "if os.path.exists(UNQLITE):\n",
    "    os.unlink(UNQLITE)"
   ]
  },
  {
   "cell_type": "markdown",
   "metadata": {},
   "source": [
    "We don't synchronize the writings because only one thread will write in the database"
   ]
  },
  {
   "cell_type": "code",
   "execution_count": 10,
   "metadata": {},
   "outputs": [],
   "source": [
    "index = geohash.index.init_geohash(\n",
    "    geohash.storage.UnQlite(UNQLITE, mode=\"w\"),\n",
    "    precision=3,\n",
    "    synchronizer=None)"
   ]
  },
  {
   "cell_type": "markdown",
   "metadata": {},
   "source": [
    "The reading of the data will be divided over 12 workers"
   ]
  },
  {
   "cell_type": "code",
   "execution_count": 11,
   "metadata": {},
   "outputs": [],
   "source": [
    "files = np.array_split(files, 12)"
   ]
  },
  {
   "cell_type": "markdown",
   "metadata": {},
   "source": [
    "We calculate the properties of the files to be processed"
   ]
  },
  {
   "cell_type": "code",
   "execution_count": 12,
   "metadata": {},
   "outputs": [],
   "source": [
    "futures = [client.submit(get_geohash_from_file, item, index.precision) for item in files]"
   ]
  },
  {
   "cell_type": "markdown",
   "metadata": {},
   "source": [
    "Populate the database with the constructed data. The data is compressed during writing in order to optimize the I/O. This compression takes a little time, but it allows to keep the base in RAM (about 350 MB vs 3 GB)."
   ]
  },
  {
   "cell_type": "code",
   "execution_count": 13,
   "metadata": {},
   "outputs": [],
   "source": [
    "data = collections.defaultdict(list)\n",
    "for item in dask.distributed.as_completed(futures):\n",
    "    for k, v in item.result().items():\n",
    "        data[k] += v"
   ]
  },
  {
   "cell_type": "code",
   "execution_count": 18,
   "metadata": {},
   "outputs": [
    {
     "name": "stdout",
     "output_type": "stream",
     "text": [
      "CPU times: user 1min 22s, sys: 1.38 s, total: 1min 24s\n",
      "Wall time: 1min 22s\n"
     ]
    }
   ],
   "source": [
    "%%time\n",
    "index.update(data)"
   ]
  },
  {
   "cell_type": "markdown",
   "metadata": {},
   "source": [
    "Flush data on the disk"
   ]
  },
  {
   "cell_type": "code",
   "execution_count": 19,
   "metadata": {},
   "outputs": [],
   "source": [
    "del futures, data\n",
    "index.store.commit()"
   ]
  },
  {
   "cell_type": "markdown",
   "metadata": {},
   "source": [
    "Query for one box"
   ]
  },
  {
   "cell_type": "code",
   "execution_count": 22,
   "metadata": {},
   "outputs": [
    {
     "name": "stdout",
     "output_type": "stream",
     "text": [
      "15.4 ms ± 12.8 µs per loop (mean ± std. dev. of 7 runs, 100 loops each)\n"
     ]
    }
   ],
   "source": [
    "%timeit len(index.box(geohash.string.bounding_box(\"cet\")))"
   ]
  },
  {
   "cell_type": "markdown",
   "metadata": {},
   "source": [
    "Query for one area"
   ]
  },
  {
   "cell_type": "code",
   "execution_count": 21,
   "metadata": {},
   "outputs": [
    {
     "name": "stdout",
     "output_type": "stream",
     "text": [
      "1.36 s ± 2.04 ms per loop (mean ± std. dev. of 7 runs, 1 loop each)\n"
     ]
    }
   ],
   "source": [
    "%%timeit\n",
    "len(index.box(\n",
    "    geohash.Box(geohash.Point(-135, 0),\n",
    "                geohash.Point(-90, 45))))"
   ]
  },
  {
   "cell_type": "markdown",
   "metadata": {},
   "source": [
    "## Calculate statistics on data selected\n",
    "\n",
    "Example of use, calculating the average SLA of each track passing through the selected geographical box. "
   ]
  },
  {
   "cell_type": "code",
   "execution_count": 23,
   "metadata": {},
   "outputs": [],
   "source": [
    "index = geohash.index.open_geohash(\n",
    "    geohash.storage.UnQlite(UNQLITE, mode=\"rm\"),\n",
    "    synchronizer=None)"
   ]
  },
  {
   "cell_type": "code",
   "execution_count": 47,
   "metadata": {},
   "outputs": [],
   "source": [
    "x = list()\n",
    "y = list()\n",
    "for file, coords in index.box(geohash.core.string.bounding_box(\"cet\")):\n",
    "    with netCDF4.Dataset(file) as ds:\n",
    "        sla = ds.variables['sla_unfiltered']\n",
    "        time = ds.variables['time']\n",
    "        for item in coords:\n",
    "            x.append(netCDF4.num2date(time[slice(*coords)].mean(), time.units))\n",
    "            y.append(sla[slice(*coords)].mean())"
   ]
  },
  {
   "cell_type": "code",
   "execution_count": 51,
   "metadata": {},
   "outputs": [],
   "source": [
    "ix = np.argsort(x)\n",
    "x = np.array(x).astype(\"datetime64[s]\")[ix]\n",
    "y = np.array(y)[ix]"
   ]
  },
  {
   "cell_type": "code",
   "execution_count": 52,
   "metadata": {},
   "outputs": [],
   "source": [
    "import matplotlib.pyplot as plt\n",
    "%matplotlib inline"
   ]
  },
  {
   "cell_type": "code",
   "execution_count": 53,
   "metadata": {},
   "outputs": [
    {
     "data": {
      "text/plain": [
       "[<matplotlib.lines.Line2D at 0x7fa4b9412250>]"
      ]
     },
     "execution_count": 53,
     "metadata": {},
     "output_type": "execute_result"
    },
    {
     "data": {
      "image/png": "[encoded data removed]",
      "text/plain": [
       "<Figure size 432x288 with 1 Axes>"
      ]
     },
     "metadata": {
      "needs_background": "light"
     },
     "output_type": "display_data"
    }
   ],
   "source": [
    "plt.plot(x, y)"
   ]
  },
  {
   "cell_type": "code",
   "execution_count": 54,
   "metadata": {},
   "outputs": [],
   "source": [
    "del index\n",
    "client.close()\n",
    "cluster.close()"
   ]
  }
 ],
 "metadata": {
  "kernelspec": {
   "display_name": "Python 3",
   "language": "python",
   "name": "python3"
  },
  "language_info": {
   "codemirror_mode": {
    "name": "ipython",
    "version": 3
   },
   "file_extension": ".py",
   "mimetype": "text/x-python",
   "name": "python",
   "nbconvert_exporter": "python",
   "pygments_lexer": "ipython3",
   "version": "3.8.2"
  }
 },
 "nbformat": 4,
 "nbformat_minor": 4
}